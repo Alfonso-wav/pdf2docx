{
 "cells": [
  {
   "cell_type": "code",
   "execution_count": 11,
   "metadata": {},
   "outputs": [
    {
     "ename": "",
     "evalue": "",
     "output_type": "error",
     "traceback": [
      "\u001b[1;31mEl kernel se bloqueó al ejecutar código en la celda actual o en una celda anterior. \n",
      "\u001b[1;31mRevise el código de las celdas para identificar una posible causa del error. \n",
      "\u001b[1;31mHaga clic <a href='https://aka.ms/vscodeJupyterKernelCrash'>aquí</a> para obtener más información. \n",
      "\u001b[1;31mVea Jupyter <a href='command:jupyter.viewOutput'>log</a> para obtener más detalles."
     ]
    }
   ],
   "source": [
    "import os\n",
    "from pdf2image import convert_from_path\n",
    "import pytesseract\n",
    "from docx import Document\n",
    "\n",
    "# Especifica la ruta del archivo PDF de entrada y el archivo Word de salida\n",
    "pdf_file = '/workspaces/pdf2docx/archivos/pdf/manual3.pdf'\n",
    "word_file = '/workspaces/pdf2docx/archivos/word/manual3.docx'\n",
    "\n",
    "# Verifica si el archivo .docx ya existe\n",
    "if not os.path.exists(word_file):\n",
    "    # Convertir cada página del PDF en una imagen\n",
    "    pages = convert_from_path(pdf_file)\n",
    "\n",
    "    # Crear un nuevo documento Word\n",
    "    doc = Document()\n",
    "\n",
    "    # Procesar cada imagen (página) con OCR\n",
    "    for page in pages:\n",
    "        text = pytesseract.image_to_string(page, lang='spa')  # Ajusta 'spa' para otros idiomas\n",
    "        doc.add_paragraph(text)\n",
    "    \n",
    "    # Guardar el archivo Word\n",
    "    doc.save(word_file)\n",
    "    print(f'Conversión completada. Archivo guardado en {word_file}')\n",
    "else:\n",
    "    print(f'El archivo {word_file} ya existe.')"
   ]
  }
 ],
 "metadata": {
  "kernelspec": {
   "display_name": "Python 3",
   "language": "python",
   "name": "python3"
  },
  "language_info": {
   "codemirror_mode": {
    "name": "ipython",
    "version": 3
   },
   "file_extension": ".py",
   "mimetype": "text/x-python",
   "name": "python",
   "nbconvert_exporter": "python",
   "pygments_lexer": "ipython3",
   "version": "3.12.1"
  }
 },
 "nbformat": 4,
 "nbformat_minor": 2
}
